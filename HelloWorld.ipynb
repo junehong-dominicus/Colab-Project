{
  "nbformat": 4,
  "nbformat_minor": 0,
  "metadata": {
    "colab": {
      "provenance": [],
      "authorship_tag": "ABX9TyNATIAydrlaeq3bqGazHBmA",
      "include_colab_link": true
    },
    "kernelspec": {
      "name": "python3",
      "display_name": "Python 3"
    },
    "language_info": {
      "name": "python"
    }
  },
  "cells": [
    {
      "cell_type": "markdown",
      "metadata": {
        "id": "view-in-github",
        "colab_type": "text"
      },
      "source": [
        "<a href=\"https://colab.research.google.com/github/junehong-dominicus/Colab-Project/blob/main/HelloWorld.ipynb\" target=\"_parent\"><img src=\"https://colab.research.google.com/assets/colab-badge.svg\" alt=\"Open In Colab\"/></a>"
      ]
    },
    {
      "cell_type": "code",
      "execution_count": 5,
      "metadata": {
        "colab": {
          "base_uri": "https://localhost:8080/"
        },
        "id": "tF2ndogu7Xsn",
        "outputId": "a5d83d5c-0529-4e90-e0f0-439237a1e1f8"
      },
      "outputs": [
        {
          "output_type": "stream",
          "name": "stdout",
          "text": [
            "This is a test cell. Hello World\n"
          ]
        }
      ],
      "source": [
        "print(\"This is a test cell. Hello World\")"
      ]
    },
    {
      "cell_type": "markdown",
      "metadata": {
        "id": "070db915"
      },
      "source": [
        "# Task\n",
        "Push the notebook to GitHub."
      ]
    },
    {
      "cell_type": "markdown",
      "metadata": {
        "id": "7bf6f2af"
      },
      "source": [
        "## Set up git\n",
        "\n",
        "### Subtask:\n",
        "Initialize a Git repository and configure your Git identity.\n"
      ]
    },
    {
      "cell_type": "markdown",
      "metadata": {
        "id": "afd3dfd8"
      },
      "source": [
        "**Reasoning**:\n",
        "Initialize a Git repository and configure the Git identity.\n",
        "\n"
      ]
    },
    {
      "cell_type": "code",
      "source": [
        "print(\"HelloWorld\")"
      ],
      "metadata": {
        "colab": {
          "base_uri": "https://localhost:8080/"
        },
        "id": "vFFlb4Tw-F3P",
        "outputId": "25e66a04-baef-4113-9de9-d4f0ed8a4825"
      },
      "execution_count": 7,
      "outputs": [
        {
          "output_type": "stream",
          "name": "stdout",
          "text": [
            "HelloWorld\n"
          ]
        }
      ]
    },
    {
      "cell_type": "markdown",
      "source": [
        "For first commit."
      ],
      "metadata": {
        "id": "7DgAyD5b-NKf"
      }
    }
  ]
}